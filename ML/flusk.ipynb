{
 "cells": [
  {
   "cell_type": "code",
   "execution_count": 1,
   "id": "b6f4ab70-3777-488b-9e44-c0c678735ea6",
   "metadata": {},
   "outputs": [
    {
     "name": "stdout",
     "output_type": "stream",
     "text": [
      "   Age  Attrition  Business Travel  Daily Rate  Department  \\\n",
      "0   41          1                2        1102           2   \n",
      "1   49          0                1         279           1   \n",
      "2   37          1                2        1373           1   \n",
      "3   33          0                1        1392           1   \n",
      "4   27          0                2         591           1   \n",
      "\n",
      "   Distance From Home  Education  Education Field  Environment Satisfaction  \\\n",
      "0                   1          2                1                         2   \n",
      "1                   8          1                1                         3   \n",
      "2                   2          2                4                         4   \n",
      "3                   3          4                1                         4   \n",
      "4                   2          1                3                         1   \n",
      "\n",
      "   Hourly Rate  ...  Relationship Satisfaction  Stock Option Level  \\\n",
      "0           94  ...                          1                   0   \n",
      "1           61  ...                          4                   1   \n",
      "2           92  ...                          2                   0   \n",
      "3           56  ...                          3                   0   \n",
      "4           40  ...                          4                   1   \n",
      "\n",
      "   Total Working Years  Training Times Last Year  Work Life Balance  \\\n",
      "0                    8                         0                  1   \n",
      "1                   10                         3                  3   \n",
      "2                    7                         3                  3   \n",
      "3                    8                         3                  3   \n",
      "4                    6                         3                  3   \n",
      "\n",
      "   Years At Company  Years In Current Role  Years Since Last Promotion  \\\n",
      "0                 6                      4                           0   \n",
      "1                10                      7                           1   \n",
      "2                 0                      0                           0   \n",
      "3                 8                      7                           3   \n",
      "4                 2                      2                           2   \n",
      "\n",
      "   Years With Curr Manager  Gender_Male  \n",
      "0                        5            0  \n",
      "1                        7            1  \n",
      "2                        0            1  \n",
      "3                        0            0  \n",
      "4                        2            1  \n",
      "\n",
      "[5 rows x 31 columns]\n"
     ]
    }
   ],
   "source": [
    "import pandas as pd\n",
    "import matplotlib.pyplot as plt\n",
    "\n",
    "# Charger le fichier Excel\n",
    "data = pd.read_excel(\"C:\\\\Users\\\\MSI\\\\Desktop\\\\Cleaned2_HR_Employee_Attrition.xlsx\")\n",
    "\n",
    "\n",
    "# Afficher les premières lignes du dataset pour vérifier\n",
    "print(data.head())"
   ]
  },
  {
   "cell_type": "code",
   "execution_count": 2,
   "id": "0d71bcdd-5b6b-4bd8-8118-6bed93ed392a",
   "metadata": {},
   "outputs": [
    {
     "name": "stdout",
     "output_type": "stream",
     "text": [
      "   Age  Department  Job Role  Job Satisfaction  Monthly Income  Over Time  \\\n",
      "0   41           2         7                 4            5993          1   \n",
      "1   49           1         6                 2            5130          0   \n",
      "2   37           1         2                 3            2090          1   \n",
      "3   33           1         6                 3            2909          1   \n",
      "4   27           1         2                 2            3468          0   \n",
      "\n",
      "   Total Working Years  Years At Company  Attrition  \n",
      "0                    8                 6          1  \n",
      "1                   10                10          0  \n",
      "2                    7                 0          1  \n",
      "3                    8                 8          0  \n",
      "4                    6                 2          0  \n"
     ]
    }
   ],
   "source": [
    "essential_columns = [\n",
    "    'Age', 'Department', 'Job Role', \n",
    "    'Job Satisfaction', 'Monthly Income', 'Over Time', \n",
    "    'Total Working Years', 'Years At Company','Attrition'\n",
    "]\n",
    "\n",
    "# Filtrer le dataset\n",
    "filtered_data = data[essential_columns]\n",
    "\n",
    "# Aperçu des données filtrées\n",
    "print(filtered_data.head())"
   ]
  },
  {
   "cell_type": "code",
   "execution_count": 3,
   "id": "f5595990-60cb-4501-89d1-be7a400b9df3",
   "metadata": {},
   "outputs": [
    {
     "name": "stdout",
     "output_type": "stream",
     "text": [
      "Taille de X_train : (1176, 8)\n",
      "Taille de X_test : (294, 8)\n",
      "Taille de y_train : (1176,)\n",
      "Taille de y_test : (294,)\n"
     ]
    }
   ],
   "source": [
    "from sklearn.model_selection import train_test_split\n",
    "\n",
    "# Séparer les caractéristiques (X) et la cible (y)\n",
    "X = filtered_data.drop(columns=['Attrition'])  # Remplacez 'Attrition' par le nom de votre colonne cible\n",
    "y = filtered_data['Attrition']  # La colonne cible\n",
    "\n",
    "# Diviser les données en 80% entraînement et 20% test\n",
    "X_train, X_test, y_train, y_test = train_test_split(X, y, test_size=0.2, random_state=42)\n",
    "\n",
    "# Vérifier les dimensions\n",
    "print(\"Taille de X_train :\", X_train.shape)\n",
    "print(\"Taille de X_test :\", X_test.shape)\n",
    "print(\"Taille de y_train :\", y_train.shape)\n",
    "print(\"Taille de y_test :\", y_test.shape)"
   ]
  },
  {
   "cell_type": "code",
   "execution_count": 4,
   "id": "94aea9cb-950e-48a7-a9d2-ceb136813ec7",
   "metadata": {},
   "outputs": [
    {
     "name": "stdout",
     "output_type": "stream",
     "text": [
      "Matrice de confusion :\n",
      "[[252   3]\n",
      " [ 36   3]]\n"
     ]
    }
   ],
   "source": [
    "from sklearn.linear_model import LogisticRegression\n",
    "from sklearn.metrics import confusion_matrix, classification_report\n",
    "\n",
    "# Initialisation du modèle de régression logistique\n",
    "model = LogisticRegression(random_state=42, max_iter=10000)\n",
    "\n",
    "# Entraîner le modèle sur les données d'entraînement\n",
    "model.fit(X_train, y_train)\n",
    "\n",
    "# Prédire les valeurs pour les données de test\n",
    "y_pred = model.predict(X_test)\n",
    "\n",
    "# Afficher les résultats\n",
    "print(\"Matrice de confusion :\")\n",
    "print(confusion_matrix(y_test, y_pred))"
   ]
  },
  {
   "cell_type": "code",
   "execution_count": 5,
   "id": "a66a98d5-be67-47c7-b714-c3c6e9af8f8d",
   "metadata": {},
   "outputs": [
    {
     "name": "stdout",
     "output_type": "stream",
     "text": [
      "Scores de la validation croisée (Accuracy) : [0.83333333 0.86054422 0.85034014 0.85034014 0.84693878]\n",
      "Score moyen de la validation croisée : 0.8483\n",
      "Écart-type des scores : 0.0088\n"
     ]
    }
   ],
   "source": [
    " from sklearn.model_selection import cross_val_score\n",
    "\n",
    "model = LogisticRegression(random_state=42, max_iter=10000)\n",
    "\n",
    "# Entraîner le modèle sur les données d'entraînement\n",
    "model.fit(X_train, y_train)\n",
    "\n",
    "# Prédire les valeurs pour les données de test\n",
    "y_pred = model.predict(X_test)\n",
    "\n",
    "# Validation croisée avec la métrique Accuracy\n",
    "cv_scores = cross_val_score(model, X, y, cv=5, scoring='accuracy')\n",
    "\n",
    "# Affichage des résultats\n",
    "print(f\"Scores de la validation croisée (Accuracy) : {cv_scores}\")\n",
    "print(f\"Score moyen de la validation croisée : {cv_scores.mean():.4f}\")\n",
    "print(f\"Écart-type des scores : {cv_scores.std():.4f}\")"
   ]
  },
  {
   "cell_type": "code",
   "execution_count": 6,
   "id": "ef3668a8-c496-4bf1-972d-97dcd5d3e2be",
   "metadata": {},
   "outputs": [
    {
     "name": "stdout",
     "output_type": "stream",
     "text": [
      "Modèle sauvegardé en tant que 'model_turnover.pkl'\n"
     ]
    }
   ],
   "source": [
    "import joblib\n",
    "joblib.dump(model, 'model2_turnover.pkl')\n",
    "print(\"Modèle sauvegardé en tant que 'model_turnover.pkl'\")\n"
   ]
  },
  {
   "cell_type": "code",
   "execution_count": 7,
   "id": "cd37c02d-36db-4c01-892c-23b0b139ee9f",
   "metadata": {},
   "outputs": [],
   "source": [
    "filtered_data.to_excel(r'C:\\\\Users\\\\MSI\\\\Desktop\\\\flusk_HR_Employee_Attrition.xlsx', index=False)"
   ]
  },
  {
   "cell_type": "code",
   "execution_count": null,
   "id": "4b9482ee-73e3-4a3a-86d5-1458c7f8bdbf",
   "metadata": {},
   "outputs": [],
   "source": []
  }
 ],
 "metadata": {
  "kernelspec": {
   "display_name": "Python 3 (ipykernel)",
   "language": "python",
   "name": "python3"
  },
  "language_info": {
   "codemirror_mode": {
    "name": "ipython",
    "version": 3
   },
   "file_extension": ".py",
   "mimetype": "text/x-python",
   "name": "python",
   "nbconvert_exporter": "python",
   "pygments_lexer": "ipython3",
   "version": "3.11.7"
  }
 },
 "nbformat": 4,
 "nbformat_minor": 5
}
